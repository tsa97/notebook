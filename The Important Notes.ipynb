{
 "cells": [
  {
   "cell_type": "markdown",
   "metadata": {},
   "source": [
    "# The Important Notes\n",
    "\n",
    "## Introduction\n",
    "This might be not amazing as you expected. However, the jupyter notebooks could leads us into an infinite world of knowledge as has been mentioned in [the official documentation](https://github.com/jupyter/jupyter/wiki/A-gallery-of-interesting-Jupyter-Notebooks) of Jupyter Notebooks!\n",
    "\n",
    "### Statistics and Probability\n",
    "[Stat110.net](https://projects.iq.harvard.edu/stat110) is the official web of course Statistics 110 by Joe Blitzstein from Harvard University.\n",
    "* #1 : Introduction to Statistics. Statistics is the science of uncertainty, while Math is the science of certainty. He also explains the Binomial Probability (with or w/o order), Mosteller and Wallace, [Fermat and Pascal on Probability](https://www.york.ac.uk/depts/maths/histstat/pascal.pdf) in reponse to the gambler's question about predicting the outcome which results the Pascal's Triangle, and recommends IQSS of Harvard University to get a further comprehensive understanding about statistics. \n",
    "    * Pascal's Wager : If he believes in God and God does exist, there will be an infinite rewards! as shown in [this video](http://factmyth.com/factoids/probability-theory-was-invented-to-solve-a-gambling-problem/) *Look at the video, it really inspires us!*\n",
    "    \n",
    "\n",
    "### Machine Learning\n",
    "[Chakri Cherukuri](https://github.com/ChakriCherukuri/mlviz) is quatitative expert of Bloomberg that giving us a comprehensive understanding about how to quantify finance."
   ]
  },
  {
   "cell_type": "markdown",
   "metadata": {},
   "source": [
    "### Linear Regression\n",
    "\n",
    "The code below is trying to perform a linear regression"
   ]
  },
  {
   "cell_type": "code",
   "execution_count": 1,
   "metadata": {},
   "outputs": [],
   "source": [
    "import numpy as np\n",
    "\n",
    "from ipywidgets import Button, VBox, HBox, Label\n",
    "import bqplot.pyplot as plt\n",
    "from bqplot import LinearScale"
   ]
  },
  {
   "cell_type": "code",
   "execution_count": 2,
   "metadata": {},
   "outputs": [],
   "source": [
    "def linreg(x, y):\n",
    "    '''\n",
    "    computes intercept and slope for a simple\n",
    "    ols regression\n",
    "    '''\n",
    "    b = np.cov(x, y)[0, 1] / np.var(x)\n",
    "    a = np.mean(y) - b * np.mean(x)\n",
    "    return a, b"
   ]
  },
  {
   "cell_type": "code",
   "execution_count": 3,
   "metadata": {},
   "outputs": [],
   "source": [
    "\n",
    "x = np.linspace(-10, 10, 50)\n",
    "y = 5 * x + 7 + np.random.randn(50) * 20\n",
    "\n",
    "def update_regline(*args):\n",
    "    # update the y attribute of the reg_line with \n",
    "    # the results of running the ols regression on \n",
    "    # x and y attributes of the scatter plot\n",
    "    a, b = linreg(scatter.x, scatter.y)\n",
    "    reg_line.y = a + b * reg_line.x\n",
    "    \n",
    "    # update the equation label\n",
    "    equation_label.value = eqn_tmpl.format(a, b)\n",
    "\n",
    "# Add a scatter plot and a regression line on the same figure\n",
    "axes_options = {'x': {'label': 'X'},\n",
    "                'y': {'label': 'Y'}}\n",
    "fig = plt.figure(title='Linear Regression', animation_duration=1000)\n",
    "                 \n",
    "plt.scales(scales={'x': LinearScale(min=-30, max=30),\n",
    "                   'y': LinearScale(min=-150, max=150)})\n",
    "\n",
    "scatter = plt.scatter(x, y, colors=['orangered'], default_size=100, \n",
    "                      enable_move=True, interactions={'click': 'add'},\n",
    "                      stroke='black')\n",
    "reg_line = plt.plot(np.arange(-30, 31), [], 'g', stroke_width=8,\n",
    "                    opacities=[.5], axes_options=axes_options)\n",
    "\n",
    "fig.layout.width = '800px'\n",
    "fig.layout.height = '550px'\n",
    "\n",
    "reset_button = Button(description='Reset', button_style='success')\n",
    "reset_button.layout.margin = '0px 30px 0px 60px'\n",
    "\n",
    "eqn_tmpl = 'Regression Line: ${:.2f} + {:.2f}x$'\n",
    "equation_label = Label()\n",
    "\n",
    "def reset_points(*args):\n",
    "    '''\n",
    "    resets the scatter's x and y points \n",
    "    to the original values\n",
    "    '''\n",
    "    with scatter.hold_trait_notifications():\n",
    "        scatter.x = x\n",
    "        scatter.y = y\n",
    "\n",
    "# on button click reset the scatter points\n",
    "reset_button.on_click(lambda btn: reset_points())\n",
    "# recompute reg line when new points are added\n",
    "scatter.observe(update_regline, ['x', 'y'])\n",
    "\n",
    "# compute the reg line\n",
    "update_regline(None)"
   ]
  },
  {
   "cell_type": "code",
   "execution_count": 4,
   "metadata": {},
   "outputs": [
    {
     "data": {
      "application/vnd.jupyter.widget-view+json": {
       "model_id": "c9061e7e3ea4495f9b433c50e6006ee5",
       "version_major": 2,
       "version_minor": 0
      },
      "text/plain": [
       "VBox(children=(Figure(animation_duration=1000, axes=[Axis(label='X', scale=LinearScale(max=30.0, min=-30.0)), …"
      ]
     },
     "metadata": {},
     "output_type": "display_data"
    }
   ],
   "source": [
    "VBox([fig, HBox([reset_button, equation_label])])"
   ]
  },
  {
   "cell_type": "markdown",
   "metadata": {},
   "source": [
    "### Gradient Descent\n",
    "\n",
    "The code below is trying to perform a gradient descent."
   ]
  },
  {
   "cell_type": "code",
   "execution_count": 5,
   "metadata": {},
   "outputs": [],
   "source": [
    "from time import sleep\n",
    "\n",
    "import numpy as np\n",
    "\n",
    "from ipywidgets import *\n",
    "import bqplot.pyplot as plt\n",
    "from bqplot import Toolbar"
   ]
  },
  {
   "cell_type": "code",
   "execution_count": 6,
   "metadata": {},
   "outputs": [],
   "source": [
    "f = lambda x: np.exp(-x) * np.sin(5 * x)\n",
    "df = lambda x: -np.exp(-x) * np.sin(5 * x) + 5 * np.cos(5 *x) * np.exp(-x)"
   ]
  },
  {
   "cell_type": "code",
   "execution_count": 7,
   "metadata": {},
   "outputs": [],
   "source": [
    "x = np.linspace(0.5, 2.5, 500)\n",
    "y = f(x)"
   ]
  },
  {
   "cell_type": "code",
   "execution_count": 8,
   "metadata": {},
   "outputs": [],
   "source": [
    "def update_sol_path(x, y):\n",
    "    with sol_path.hold_sync():\n",
    "        sol_path.x = x\n",
    "        sol_path.y = y\n",
    "    \n",
    "    with sol_points.hold_sync():\n",
    "        sol_points.x = x\n",
    "        sol_points.y = y"
   ]
  },
  {
   "cell_type": "code",
   "execution_count": 9,
   "metadata": {},
   "outputs": [],
   "source": [
    "def gradient_descent(x0, f, df, eta=.1, tol=1e-6, num_iters=10):\n",
    "    x = [x0]\n",
    "    i = 0\n",
    "    \n",
    "    while i < num_iters:\n",
    "        x_prev = x[-1]\n",
    "        grad = df(x_prev)\n",
    "        x_curr = x_prev - eta * grad\n",
    "        x.append(x_curr)\n",
    "        sol_lbl.value = sol_lbl_tmpl.format(x_curr)\n",
    "        sleep(.5)\n",
    "        \n",
    "        update_sol_path(x, [f(i) for i in x])\n",
    "        \n",
    "        if np.abs(x_curr - x_prev) < tol:\n",
    "            break\n",
    "        i += 1"
   ]
  },
  {
   "cell_type": "code",
   "execution_count": 10,
   "metadata": {},
   "outputs": [
    {
     "data": {
      "application/vnd.jupyter.widget-view+json": {
       "model_id": "e61aba1dd3d6467398f57ad84b1a9873",
       "version_major": 2,
       "version_minor": 0
      },
      "text/plain": [
       "HBox(children=(VBox(children=(Figure(axes=[Axis(scale=LinearScale()), Axis(orientation='vertical', scale=Linea…"
      ]
     },
     "metadata": {},
     "output_type": "display_data"
    }
   ],
   "source": [
    "txt_layout = Layout(width='150px')\n",
    "x0_box = FloatText(description='x0', layout=txt_layout, value=2.4)\n",
    "eta_box = FloatText(description='Learning Rate', \n",
    "                    style={'description_width':'initial'}, \n",
    "                    layout=txt_layout, value=.1)\n",
    "\n",
    "go_btn = Button(description='GO', button_style='success', layout=Layout(width='50px'))\n",
    "reset_btn = Button(description='Reset', button_style='success', layout=Layout(width='100px'))\n",
    "\n",
    "sol_lbl_tmpl = 'x = {:.4f}'\n",
    "sol_lbl = Label()\n",
    "sol_lbl.layout.width = '300px'\n",
    "\n",
    "# plot of curve and solution\n",
    "fig_layout = Layout(width='720px', height='500px')\n",
    "fig = plt.figure(layout=fig_layout, title='Gradient Descent', display_toolbar=True)\n",
    "fig.pyplot = Toolbar(figure=fig)\n",
    "\n",
    "curve = plt.plot(x, y, colors=['dodgerblue'], stroke_width=2)\n",
    "sol_path = plt.plot([], [], colors=['#ccc'], opacities=[.7])\n",
    "sol_points = plt.plot([], [], 'mo', default_size=20)\n",
    "\n",
    "def optimize():\n",
    "    f.marks = [curve]\n",
    "    gradient_descent(x0_box.value, f, df, eta=eta_box.value)\n",
    "\n",
    "def reset():\n",
    "    curve.scales['x'].min = .4\n",
    "    curve.scales['x'].max = 2.5\n",
    "    \n",
    "    curve.scales['y'].min = -.5\n",
    "    curve.scales['y'].max = .4\n",
    "    sol_path.x = sol_path.y = []\n",
    "    sol_points.x = sol_points.y = []\n",
    "    sol_lbl.value = ''\n",
    "    \n",
    "go_btn.on_click(lambda btn: optimize())\n",
    "reset_btn.on_click(lambda btn: reset())\n",
    "\n",
    "final_fig = VBox([fig, fig.pyplot], \n",
    "                 layout=Layout(overflow_x='hidden'))\n",
    "HBox([final_fig, VBox([x0_box, eta_box, go_btn, reset_btn, sol_lbl])])"
   ]
  },
  {
   "cell_type": "code",
   "execution_count": null,
   "metadata": {},
   "outputs": [],
   "source": []
  }
 ],
 "metadata": {
  "kernelspec": {
   "display_name": "Python 3",
   "language": "python",
   "name": "python3"
  },
  "language_info": {
   "codemirror_mode": {
    "name": "ipython",
    "version": 3
   },
   "file_extension": ".py",
   "mimetype": "text/x-python",
   "name": "python",
   "nbconvert_exporter": "python",
   "pygments_lexer": "ipython3",
   "version": "3.7.3"
  }
 },
 "nbformat": 4,
 "nbformat_minor": 2
}
