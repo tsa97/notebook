{
 "cells": [
  {
   "cell_type": "markdown",
   "metadata": {},
   "source": [
    "### English\n",
    "\n",
    "I opened this notebook in July 30, 2019 in the midnight. I was aware that I only put my focus on the French and put aside the English. In fact, I should pay attention to both sides to prepare the DELF and TOELF in order to fulfill the academic requirement in English and French proficiency test."
   ]
  },
  {
   "cell_type": "markdown",
   "metadata": {},
   "source": [
    "# July, 29 2019 - La Première Fois \n",
    "J'apprends le francais en ecoute de la piste sur [les pages web](https://savoirs.rfi.fr/fr/apprendre-enseigner/economie/les-villes-les-plus-cheres/1) \n",
    "\n",
    "Il s'agit d'economique et de gestion qui est aligné à mon avis.\n",
    "\n",
    "## Leçon 1\n",
    "\n",
    "### Écrire Une Nouvelle - Des Villes Les Plus Chères\n",
    "Du Journal Britannique *The Economist*\n",
    "\n",
    "Extrait du Journal en français facile du 19 mars 2019\n",
    "\n",
    "**Jeanne Bartoli :**\n",
    "\n",
    "Paris, justement, mais aussi Singapour et Hong Kong. Voilà le trio ex aequo des villes les plus chères au monde en 2018.\n",
    "\n",
    "C’est ce que révèle une étude du journal britannique The Economist. Jeanne Richard.\n",
    "\n",
    "**Jeanne Richard :**\n",
    "\n",
    "Prix des transports, des loyers, mais aussi du kilo de pain, d’une bouteille de bière ou encore d’une coupe chez le coiffeur.\n",
    "\n",
    "Les chercheurs ont comparé le prix de plus de 150 produits et services dans 130 villes dans le monde.\n",
    "\n",
    "Résultat : le top 10 des villes les plus chères est dominé par les villes européennes et asiatiques.\n",
    "\n",
    "Juste derrière Paris, Singapour et Hong Kong, on retrouve ainsi Zurich et Genève en Suisse, et Osaka au Japon.\n",
    "\n",
    "Dans le bas du classement, Caracas au Venezuela est considérée comme la ville où la vie est la moins chère au monde : le pays est embourbé dans une crise économique et politique sans précédent.\n",
    "\n",
    "On retrouve également Damas en Syrie ou Karachi au Pakistan à cause des problèmes sécuritaires.\n",
    "\n",
    "Alors, à quoi s’attendre pour 2019 ?\n",
    "\n",
    "Les conflits bien sûr, mais aussi les conséquences du Brexit en Europe, ou la guerre commerciale des États-Unis avec la Chine.\n",
    "\n",
    "Autant d’inconnues qui pourraient fragiliser les États et leurs économies. Mais les analystes estiment toutefois que le coût de la vie va globalement continuer à augmenter et atteindre un apogée en 2020.\n",
    "\n",
    "### Aperçu\n",
    "\n",
    "#### Vocabulaire\n",
    "Loyers = Rent\n",
    "\n",
    "Coupe chez le coiffeur = Haircut Fee\n",
    "\n",
    "Résultat = Result, giving emphasize\n",
    "\n",
    "la guerre commerciale = Trade War\n",
    "\n",
    "#### Ranking\n",
    "Dans la tête du classement = In the head of the ranking\n",
    "\n",
    "Dans le bas du classement = In the bottom of the ranking\n",
    "\n",
    "#### Asking for Prediction\n",
    "Alors, à quoi s’attendre pour 2019 ? = Then, what will be happened in 2019?\n",
    "\n",
    "### Doute\n",
    "1. The Usage of \"Mais Aussi\""
   ]
  },
  {
   "cell_type": "code",
   "execution_count": null,
   "metadata": {},
   "outputs": [],
   "source": []
  }
 ],
 "metadata": {
  "kernelspec": {
   "display_name": "Python 3",
   "language": "python",
   "name": "python3"
  },
  "language_info": {
   "codemirror_mode": {
    "name": "ipython",
    "version": 3
   },
   "file_extension": ".py",
   "mimetype": "text/x-python",
   "name": "python",
   "nbconvert_exporter": "python",
   "pygments_lexer": "ipython3",
   "version": "3.7.3"
  },
  "toc": {
   "base_numbering": 1,
   "nav_menu": {},
   "number_sections": true,
   "sideBar": true,
   "skip_h1_title": false,
   "title_cell": "Table of Contents",
   "title_sidebar": "Contents",
   "toc_cell": false,
   "toc_position": {},
   "toc_section_display": true,
   "toc_window_display": true
  }
 },
 "nbformat": 4,
 "nbformat_minor": 2
}
