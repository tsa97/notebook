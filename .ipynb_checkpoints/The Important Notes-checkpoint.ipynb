{
 "cells": [
  {
   "cell_type": "markdown",
   "metadata": {},
   "source": [
    "# The Important Notes\n",
    "\n",
    "## Introduction\n",
    "This might be not amazing as you expected\n",
    "\n",
    "### Statistics and Probability\n",
    "[Stat110.net](https://projects.iq.harvard.edu/stat110) is the official web of course Statistics 110 by Joe Blitzstein from Harvard University.\n",
    "* #1 : Introduction to Statistics. Statistics is the science of uncertainty, while Math is the science of certainty. He also explains the Binomial Probability (with or w/o order), Mosteller and Wallace, [Fermat and Pascal on Probability](https://www.york.ac.uk/depts/maths/histstat/pascal.pdf), and recommends IQSS of Harvard University to get a further comprehensive understanding about statistics. \n"
   ]
  },
  {
   "cell_type": "code",
   "execution_count": null,
   "metadata": {},
   "outputs": [],
   "source": []
  }
 ],
 "metadata": {
  "kernelspec": {
   "display_name": "Python 3",
   "language": "python",
   "name": "python3"
  },
  "language_info": {
   "codemirror_mode": {
    "name": "ipython",
    "version": 3
   },
   "file_extension": ".py",
   "mimetype": "text/x-python",
   "name": "python",
   "nbconvert_exporter": "python",
   "pygments_lexer": "ipython3",
   "version": "3.7.3"
  }
 },
 "nbformat": 4,
 "nbformat_minor": 2
}
